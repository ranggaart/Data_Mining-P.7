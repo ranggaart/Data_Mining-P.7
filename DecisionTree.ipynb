{
  "nbformat": 4,
  "nbformat_minor": 0,
  "metadata": {
    "colab": {
      "provenance": [],
      "authorship_tag": "ABX9TyNbN08Ie0WvXe8JePlf7gaj",
      "include_colab_link": true
    },
    "kernelspec": {
      "name": "python3",
      "display_name": "Python 3"
    },
    "language_info": {
      "name": "python"
    }
  },
  "cells": [
    {
      "cell_type": "markdown",
      "metadata": {
        "id": "view-in-github",
        "colab_type": "text"
      },
      "source": [
        "<a href=\"https://colab.research.google.com/github/ranggaart/Data_Mining-P.7/blob/main/DecisionTree.ipynb\" target=\"_parent\"><img src=\"https://colab.research.google.com/assets/colab-badge.svg\" alt=\"Open In Colab\"/></a>"
      ]
    },
    {
      "cell_type": "code",
      "execution_count": 30,
      "metadata": {
        "id": "gWBsRrepAT08"
      },
      "outputs": [],
      "source": [
        "from sklearn.tree import DecisionTreeClassifier\n",
        "from sklearn import datasets\n",
        "import matplotlib.pyplot as plt\n",
        "\n",
        "\n",
        "\n"
      ]
    },
    {
      "cell_type": "code",
      "source": [
        "# Load dataset iris dari library scikit learn\n",
        "iris = datasets.load_iris()\n",
        "features = iris['data']\n",
        "target = iris['target']\n",
        "\n",
        "print(features)\n",
        "len(features)"
      ],
      "metadata": {
        "colab": {
          "base_uri": "https://localhost:8080/"
        },
        "id": "TRjYGZ6RXdTA",
        "outputId": "199d6f6f-1b22-4558-9887-cfd7a7d62170"
      },
      "execution_count": 31,
      "outputs": [
        {
          "output_type": "stream",
          "name": "stdout",
          "text": [
            "[[5.1 3.5 1.4 0.2]\n",
            " [4.9 3.  1.4 0.2]\n",
            " [4.7 3.2 1.3 0.2]\n",
            " [4.6 3.1 1.5 0.2]\n",
            " [5.  3.6 1.4 0.2]\n",
            " [5.4 3.9 1.7 0.4]\n",
            " [4.6 3.4 1.4 0.3]\n",
            " [5.  3.4 1.5 0.2]\n",
            " [4.4 2.9 1.4 0.2]\n",
            " [4.9 3.1 1.5 0.1]\n",
            " [5.4 3.7 1.5 0.2]\n",
            " [4.8 3.4 1.6 0.2]\n",
            " [4.8 3.  1.4 0.1]\n",
            " [4.3 3.  1.1 0.1]\n",
            " [5.8 4.  1.2 0.2]\n",
            " [5.7 4.4 1.5 0.4]\n",
            " [5.4 3.9 1.3 0.4]\n",
            " [5.1 3.5 1.4 0.3]\n",
            " [5.7 3.8 1.7 0.3]\n",
            " [5.1 3.8 1.5 0.3]\n",
            " [5.4 3.4 1.7 0.2]\n",
            " [5.1 3.7 1.5 0.4]\n",
            " [4.6 3.6 1.  0.2]\n",
            " [5.1 3.3 1.7 0.5]\n",
            " [4.8 3.4 1.9 0.2]\n",
            " [5.  3.  1.6 0.2]\n",
            " [5.  3.4 1.6 0.4]\n",
            " [5.2 3.5 1.5 0.2]\n",
            " [5.2 3.4 1.4 0.2]\n",
            " [4.7 3.2 1.6 0.2]\n",
            " [4.8 3.1 1.6 0.2]\n",
            " [5.4 3.4 1.5 0.4]\n",
            " [5.2 4.1 1.5 0.1]\n",
            " [5.5 4.2 1.4 0.2]\n",
            " [4.9 3.1 1.5 0.2]\n",
            " [5.  3.2 1.2 0.2]\n",
            " [5.5 3.5 1.3 0.2]\n",
            " [4.9 3.6 1.4 0.1]\n",
            " [4.4 3.  1.3 0.2]\n",
            " [5.1 3.4 1.5 0.2]\n",
            " [5.  3.5 1.3 0.3]\n",
            " [4.5 2.3 1.3 0.3]\n",
            " [4.4 3.2 1.3 0.2]\n",
            " [5.  3.5 1.6 0.6]\n",
            " [5.1 3.8 1.9 0.4]\n",
            " [4.8 3.  1.4 0.3]\n",
            " [5.1 3.8 1.6 0.2]\n",
            " [4.6 3.2 1.4 0.2]\n",
            " [5.3 3.7 1.5 0.2]\n",
            " [5.  3.3 1.4 0.2]\n",
            " [7.  3.2 4.7 1.4]\n",
            " [6.4 3.2 4.5 1.5]\n",
            " [6.9 3.1 4.9 1.5]\n",
            " [5.5 2.3 4.  1.3]\n",
            " [6.5 2.8 4.6 1.5]\n",
            " [5.7 2.8 4.5 1.3]\n",
            " [6.3 3.3 4.7 1.6]\n",
            " [4.9 2.4 3.3 1. ]\n",
            " [6.6 2.9 4.6 1.3]\n",
            " [5.2 2.7 3.9 1.4]\n",
            " [5.  2.  3.5 1. ]\n",
            " [5.9 3.  4.2 1.5]\n",
            " [6.  2.2 4.  1. ]\n",
            " [6.1 2.9 4.7 1.4]\n",
            " [5.6 2.9 3.6 1.3]\n",
            " [6.7 3.1 4.4 1.4]\n",
            " [5.6 3.  4.5 1.5]\n",
            " [5.8 2.7 4.1 1. ]\n",
            " [6.2 2.2 4.5 1.5]\n",
            " [5.6 2.5 3.9 1.1]\n",
            " [5.9 3.2 4.8 1.8]\n",
            " [6.1 2.8 4.  1.3]\n",
            " [6.3 2.5 4.9 1.5]\n",
            " [6.1 2.8 4.7 1.2]\n",
            " [6.4 2.9 4.3 1.3]\n",
            " [6.6 3.  4.4 1.4]\n",
            " [6.8 2.8 4.8 1.4]\n",
            " [6.7 3.  5.  1.7]\n",
            " [6.  2.9 4.5 1.5]\n",
            " [5.7 2.6 3.5 1. ]\n",
            " [5.5 2.4 3.8 1.1]\n",
            " [5.5 2.4 3.7 1. ]\n",
            " [5.8 2.7 3.9 1.2]\n",
            " [6.  2.7 5.1 1.6]\n",
            " [5.4 3.  4.5 1.5]\n",
            " [6.  3.4 4.5 1.6]\n",
            " [6.7 3.1 4.7 1.5]\n",
            " [6.3 2.3 4.4 1.3]\n",
            " [5.6 3.  4.1 1.3]\n",
            " [5.5 2.5 4.  1.3]\n",
            " [5.5 2.6 4.4 1.2]\n",
            " [6.1 3.  4.6 1.4]\n",
            " [5.8 2.6 4.  1.2]\n",
            " [5.  2.3 3.3 1. ]\n",
            " [5.6 2.7 4.2 1.3]\n",
            " [5.7 3.  4.2 1.2]\n",
            " [5.7 2.9 4.2 1.3]\n",
            " [6.2 2.9 4.3 1.3]\n",
            " [5.1 2.5 3.  1.1]\n",
            " [5.7 2.8 4.1 1.3]\n",
            " [6.3 3.3 6.  2.5]\n",
            " [5.8 2.7 5.1 1.9]\n",
            " [7.1 3.  5.9 2.1]\n",
            " [6.3 2.9 5.6 1.8]\n",
            " [6.5 3.  5.8 2.2]\n",
            " [7.6 3.  6.6 2.1]\n",
            " [4.9 2.5 4.5 1.7]\n",
            " [7.3 2.9 6.3 1.8]\n",
            " [6.7 2.5 5.8 1.8]\n",
            " [7.2 3.6 6.1 2.5]\n",
            " [6.5 3.2 5.1 2. ]\n",
            " [6.4 2.7 5.3 1.9]\n",
            " [6.8 3.  5.5 2.1]\n",
            " [5.7 2.5 5.  2. ]\n",
            " [5.8 2.8 5.1 2.4]\n",
            " [6.4 3.2 5.3 2.3]\n",
            " [6.5 3.  5.5 1.8]\n",
            " [7.7 3.8 6.7 2.2]\n",
            " [7.7 2.6 6.9 2.3]\n",
            " [6.  2.2 5.  1.5]\n",
            " [6.9 3.2 5.7 2.3]\n",
            " [5.6 2.8 4.9 2. ]\n",
            " [7.7 2.8 6.7 2. ]\n",
            " [6.3 2.7 4.9 1.8]\n",
            " [6.7 3.3 5.7 2.1]\n",
            " [7.2 3.2 6.  1.8]\n",
            " [6.2 2.8 4.8 1.8]\n",
            " [6.1 3.  4.9 1.8]\n",
            " [6.4 2.8 5.6 2.1]\n",
            " [7.2 3.  5.8 1.6]\n",
            " [7.4 2.8 6.1 1.9]\n",
            " [7.9 3.8 6.4 2. ]\n",
            " [6.4 2.8 5.6 2.2]\n",
            " [6.3 2.8 5.1 1.5]\n",
            " [6.1 2.6 5.6 1.4]\n",
            " [7.7 3.  6.1 2.3]\n",
            " [6.3 3.4 5.6 2.4]\n",
            " [6.4 3.1 5.5 1.8]\n",
            " [6.  3.  4.8 1.8]\n",
            " [6.9 3.1 5.4 2.1]\n",
            " [6.7 3.1 5.6 2.4]\n",
            " [6.9 3.1 5.1 2.3]\n",
            " [5.8 2.7 5.1 1.9]\n",
            " [6.8 3.2 5.9 2.3]\n",
            " [6.7 3.3 5.7 2.5]\n",
            " [6.7 3.  5.2 2.3]\n",
            " [6.3 2.5 5.  1.9]\n",
            " [6.5 3.  5.2 2. ]\n",
            " [6.2 3.4 5.4 2.3]\n",
            " [5.9 3.  5.1 1.8]]\n"
          ]
        },
        {
          "output_type": "execute_result",
          "data": {
            "text/plain": [
              "150"
            ]
          },
          "metadata": {},
          "execution_count": 31
        }
      ]
    },
    {
      "cell_type": "code",
      "source": [
        "# Membuat Objek Model Decision Tree\n",
        "decisiontree = DecisionTreeClassifier(random_state=0, max_depth=None,\n",
        "                                      min_samples_split=2, min_samples_leaf=1,\n",
        "                                      min_weight_fraction_leaf=0,\n",
        "                                      max_leaf_nodes=None,\n",
        "                                      min_impurity_decrease=0)"
      ],
      "metadata": {
        "id": "R_CQfVFdTlQH"
      },
      "execution_count": 32,
      "outputs": []
    },
    {
      "cell_type": "code",
      "source": [
        "# Training Model Decision Tree\n",
        "model = decisiontree.fit(features, target)"
      ],
      "metadata": {
        "id": "18WbEwY0UBYu"
      },
      "execution_count": 33,
      "outputs": []
    },
    {
      "cell_type": "code",
      "source": [
        "# Mengambil sampel observasi dan membuat prediksi\n",
        "observation = [[5, 4, 3, 2]]\n",
        "model.predict(observation)\n",
        "model.predict_proba(observation)"
      ],
      "metadata": {
        "colab": {
          "base_uri": "https://localhost:8080/"
        },
        "id": "QYLrLMbiUEau",
        "outputId": "a99e9f63-935d-47e2-d619-fb91b13a257e"
      },
      "execution_count": 34,
      "outputs": [
        {
          "output_type": "execute_result",
          "data": {
            "text/plain": [
              "array([[0., 1., 0.]])"
            ]
          },
          "metadata": {},
          "execution_count": 34
        }
      ]
    },
    {
      "cell_type": "code",
      "source": [
        "# Grafik\n",
        "import pydotplus\n",
        "from sklearn import tree\n",
        "from IPython.display import Image\n",
        "\n",
        "dot_data = tree.export_graphviz(decisiontree, out_file=None,\n",
        "                                feature_names=iris['feature_names'],\n",
        "                                class_names=iris['target_names'])\n",
        "graph = pydotplus.graph_from_dot_data(dot_data)\n",
        "Image(graph.create_png())\n",
        "graph.write_png('iris.png')\n"
      ],
      "metadata": {
        "colab": {
          "base_uri": "https://localhost:8080/"
        },
        "id": "sj2AERWWUINm",
        "outputId": "b5aa64eb-1f31-4df2-8848-648c1ed55447"
      },
      "execution_count": 35,
      "outputs": [
        {
          "output_type": "execute_result",
          "data": {
            "text/plain": [
              "True"
            ]
          },
          "metadata": {},
          "execution_count": 35
        }
      ]
    },
    {
      "cell_type": "markdown",
      "source": [
        "**DecisionTree dengan Dataset **"
      ],
      "metadata": {
        "id": "0BMpHPmyDC_z"
      }
    },
    {
      "cell_type": "code",
      "source": [
        "import pandas as pd\n",
        "import numpy as np\n",
        "from sklearn import tree"
      ],
      "metadata": {
        "id": "PYBTIpgyZMAP"
      },
      "execution_count": 2,
      "outputs": []
    },
    {
      "cell_type": "code",
      "source": [
        "# Dataset\n",
        "irisDataset = pd.read_csv('data_iris.csv', delimiter=',', header=0)\n",
        "len(irisDataset)\n"
      ],
      "metadata": {
        "colab": {
          "base_uri": "https://localhost:8080/"
        },
        "id": "eFF3fwREDbk8",
        "outputId": "89953135-a801-46d6-967f-04b57962b0ed"
      },
      "execution_count": 5,
      "outputs": [
        {
          "output_type": "execute_result",
          "data": {
            "text/plain": [
              "152"
            ]
          },
          "metadata": {},
          "execution_count": 5
        }
      ]
    },
    {
      "cell_type": "code",
      "source": [
        "irisDataset.head()"
      ],
      "metadata": {
        "colab": {
          "base_uri": "https://localhost:8080/",
          "height": 310
        },
        "id": "bzsT-SEUIbDr",
        "outputId": "ba0e8526-95a9-4d6c-e5d7-550f126f91fc"
      },
      "execution_count": 7,
      "outputs": [
        {
          "output_type": "execute_result",
          "data": {
            "text/plain": [
              "   sepal length (cm)  sepal width (cm)  petal length (cm)  petal width (cm)  \\\n",
              "0                5.1               3.5                1.4               0.2   \n",
              "1                4.9               3.0                1.4               0.2   \n",
              "2                4.7               3.2                1.3               0.2   \n",
              "3                4.6               3.1                1.5               0.2   \n",
              "4                5.0               3.6                1.4               0.2   \n",
              "\n",
              "           Species  \n",
              "0  iris-versicolor  \n",
              "1  iris-versicolor  \n",
              "2  iris-versicolor  \n",
              "3  iris-versicolor  \n",
              "4  iris-versicolor  "
            ],
            "text/html": [
              "\n",
              "  <div id=\"df-41e3db74-8178-41bd-89bb-93d5cfaa96e3\" class=\"colab-df-container\">\n",
              "    <div>\n",
              "<style scoped>\n",
              "    .dataframe tbody tr th:only-of-type {\n",
              "        vertical-align: middle;\n",
              "    }\n",
              "\n",
              "    .dataframe tbody tr th {\n",
              "        vertical-align: top;\n",
              "    }\n",
              "\n",
              "    .dataframe thead th {\n",
              "        text-align: right;\n",
              "    }\n",
              "</style>\n",
              "<table border=\"1\" class=\"dataframe\">\n",
              "  <thead>\n",
              "    <tr style=\"text-align: right;\">\n",
              "      <th></th>\n",
              "      <th>sepal length (cm)</th>\n",
              "      <th>sepal width (cm)</th>\n",
              "      <th>petal length (cm)</th>\n",
              "      <th>petal width (cm)</th>\n",
              "      <th>Species</th>\n",
              "    </tr>\n",
              "  </thead>\n",
              "  <tbody>\n",
              "    <tr>\n",
              "      <th>0</th>\n",
              "      <td>5.1</td>\n",
              "      <td>3.5</td>\n",
              "      <td>1.4</td>\n",
              "      <td>0.2</td>\n",
              "      <td>iris-versicolor</td>\n",
              "    </tr>\n",
              "    <tr>\n",
              "      <th>1</th>\n",
              "      <td>4.9</td>\n",
              "      <td>3.0</td>\n",
              "      <td>1.4</td>\n",
              "      <td>0.2</td>\n",
              "      <td>iris-versicolor</td>\n",
              "    </tr>\n",
              "    <tr>\n",
              "      <th>2</th>\n",
              "      <td>4.7</td>\n",
              "      <td>3.2</td>\n",
              "      <td>1.3</td>\n",
              "      <td>0.2</td>\n",
              "      <td>iris-versicolor</td>\n",
              "    </tr>\n",
              "    <tr>\n",
              "      <th>3</th>\n",
              "      <td>4.6</td>\n",
              "      <td>3.1</td>\n",
              "      <td>1.5</td>\n",
              "      <td>0.2</td>\n",
              "      <td>iris-versicolor</td>\n",
              "    </tr>\n",
              "    <tr>\n",
              "      <th>4</th>\n",
              "      <td>5.0</td>\n",
              "      <td>3.6</td>\n",
              "      <td>1.4</td>\n",
              "      <td>0.2</td>\n",
              "      <td>iris-versicolor</td>\n",
              "    </tr>\n",
              "  </tbody>\n",
              "</table>\n",
              "</div>\n",
              "    <div class=\"colab-df-buttons\">\n",
              "\n",
              "  <div class=\"colab-df-container\">\n",
              "    <button class=\"colab-df-convert\" onclick=\"convertToInteractive('df-41e3db74-8178-41bd-89bb-93d5cfaa96e3')\"\n",
              "            title=\"Convert this dataframe to an interactive table.\"\n",
              "            style=\"display:none;\">\n",
              "\n",
              "  <svg xmlns=\"http://www.w3.org/2000/svg\" height=\"24px\" viewBox=\"0 -960 960 960\">\n",
              "    <path d=\"M120-120v-720h720v720H120Zm60-500h600v-160H180v160Zm220 220h160v-160H400v160Zm0 220h160v-160H400v160ZM180-400h160v-160H180v160Zm440 0h160v-160H620v160ZM180-180h160v-160H180v160Zm440 0h160v-160H620v160Z\"/>\n",
              "  </svg>\n",
              "    </button>\n",
              "\n",
              "  <style>\n",
              "    .colab-df-container {\n",
              "      display:flex;\n",
              "      gap: 12px;\n",
              "    }\n",
              "\n",
              "    .colab-df-convert {\n",
              "      background-color: #E8F0FE;\n",
              "      border: none;\n",
              "      border-radius: 50%;\n",
              "      cursor: pointer;\n",
              "      display: none;\n",
              "      fill: #1967D2;\n",
              "      height: 32px;\n",
              "      padding: 0 0 0 0;\n",
              "      width: 32px;\n",
              "    }\n",
              "\n",
              "    .colab-df-convert:hover {\n",
              "      background-color: #E2EBFA;\n",
              "      box-shadow: 0px 1px 2px rgba(60, 64, 67, 0.3), 0px 1px 3px 1px rgba(60, 64, 67, 0.15);\n",
              "      fill: #174EA6;\n",
              "    }\n",
              "\n",
              "    .colab-df-buttons div {\n",
              "      margin-bottom: 4px;\n",
              "    }\n",
              "\n",
              "    [theme=dark] .colab-df-convert {\n",
              "      background-color: #3B4455;\n",
              "      fill: #D2E3FC;\n",
              "    }\n",
              "\n",
              "    [theme=dark] .colab-df-convert:hover {\n",
              "      background-color: #434B5C;\n",
              "      box-shadow: 0px 1px 3px 1px rgba(0, 0, 0, 0.15);\n",
              "      filter: drop-shadow(0px 1px 2px rgba(0, 0, 0, 0.3));\n",
              "      fill: #FFFFFF;\n",
              "    }\n",
              "  </style>\n",
              "\n",
              "    <script>\n",
              "      const buttonEl =\n",
              "        document.querySelector('#df-41e3db74-8178-41bd-89bb-93d5cfaa96e3 button.colab-df-convert');\n",
              "      buttonEl.style.display =\n",
              "        google.colab.kernel.accessAllowed ? 'block' : 'none';\n",
              "\n",
              "      async function convertToInteractive(key) {\n",
              "        const element = document.querySelector('#df-41e3db74-8178-41bd-89bb-93d5cfaa96e3');\n",
              "        const dataTable =\n",
              "          await google.colab.kernel.invokeFunction('convertToInteractive',\n",
              "                                                    [key], {});\n",
              "        if (!dataTable) return;\n",
              "\n",
              "        const docLinkHtml = 'Like what you see? Visit the ' +\n",
              "          '<a target=\"_blank\" href=https://colab.research.google.com/notebooks/data_table.ipynb>data table notebook</a>'\n",
              "          + ' to learn more about interactive tables.';\n",
              "        element.innerHTML = '';\n",
              "        dataTable['output_type'] = 'display_data';\n",
              "        await google.colab.output.renderOutput(dataTable, element);\n",
              "        const docLink = document.createElement('div');\n",
              "        docLink.innerHTML = docLinkHtml;\n",
              "        element.appendChild(docLink);\n",
              "      }\n",
              "    </script>\n",
              "  </div>\n",
              "\n",
              "\n",
              "<div id=\"df-80eb7f9e-06e1-4445-b223-60616c555739\">\n",
              "  <button class=\"colab-df-quickchart\" onclick=\"quickchart('df-80eb7f9e-06e1-4445-b223-60616c555739')\"\n",
              "            title=\"Suggest charts\"\n",
              "            style=\"display:none;\">\n",
              "\n",
              "<svg xmlns=\"http://www.w3.org/2000/svg\" height=\"24px\"viewBox=\"0 0 24 24\"\n",
              "     width=\"24px\">\n",
              "    <g>\n",
              "        <path d=\"M19 3H5c-1.1 0-2 .9-2 2v14c0 1.1.9 2 2 2h14c1.1 0 2-.9 2-2V5c0-1.1-.9-2-2-2zM9 17H7v-7h2v7zm4 0h-2V7h2v10zm4 0h-2v-4h2v4z\"/>\n",
              "    </g>\n",
              "</svg>\n",
              "  </button>\n",
              "\n",
              "<style>\n",
              "  .colab-df-quickchart {\n",
              "      --bg-color: #E8F0FE;\n",
              "      --fill-color: #1967D2;\n",
              "      --hover-bg-color: #E2EBFA;\n",
              "      --hover-fill-color: #174EA6;\n",
              "      --disabled-fill-color: #AAA;\n",
              "      --disabled-bg-color: #DDD;\n",
              "  }\n",
              "\n",
              "  [theme=dark] .colab-df-quickchart {\n",
              "      --bg-color: #3B4455;\n",
              "      --fill-color: #D2E3FC;\n",
              "      --hover-bg-color: #434B5C;\n",
              "      --hover-fill-color: #FFFFFF;\n",
              "      --disabled-bg-color: #3B4455;\n",
              "      --disabled-fill-color: #666;\n",
              "  }\n",
              "\n",
              "  .colab-df-quickchart {\n",
              "    background-color: var(--bg-color);\n",
              "    border: none;\n",
              "    border-radius: 50%;\n",
              "    cursor: pointer;\n",
              "    display: none;\n",
              "    fill: var(--fill-color);\n",
              "    height: 32px;\n",
              "    padding: 0;\n",
              "    width: 32px;\n",
              "  }\n",
              "\n",
              "  .colab-df-quickchart:hover {\n",
              "    background-color: var(--hover-bg-color);\n",
              "    box-shadow: 0 1px 2px rgba(60, 64, 67, 0.3), 0 1px 3px 1px rgba(60, 64, 67, 0.15);\n",
              "    fill: var(--button-hover-fill-color);\n",
              "  }\n",
              "\n",
              "  .colab-df-quickchart-complete:disabled,\n",
              "  .colab-df-quickchart-complete:disabled:hover {\n",
              "    background-color: var(--disabled-bg-color);\n",
              "    fill: var(--disabled-fill-color);\n",
              "    box-shadow: none;\n",
              "  }\n",
              "\n",
              "  .colab-df-spinner {\n",
              "    border: 2px solid var(--fill-color);\n",
              "    border-color: transparent;\n",
              "    border-bottom-color: var(--fill-color);\n",
              "    animation:\n",
              "      spin 1s steps(1) infinite;\n",
              "  }\n",
              "\n",
              "  @keyframes spin {\n",
              "    0% {\n",
              "      border-color: transparent;\n",
              "      border-bottom-color: var(--fill-color);\n",
              "      border-left-color: var(--fill-color);\n",
              "    }\n",
              "    20% {\n",
              "      border-color: transparent;\n",
              "      border-left-color: var(--fill-color);\n",
              "      border-top-color: var(--fill-color);\n",
              "    }\n",
              "    30% {\n",
              "      border-color: transparent;\n",
              "      border-left-color: var(--fill-color);\n",
              "      border-top-color: var(--fill-color);\n",
              "      border-right-color: var(--fill-color);\n",
              "    }\n",
              "    40% {\n",
              "      border-color: transparent;\n",
              "      border-right-color: var(--fill-color);\n",
              "      border-top-color: var(--fill-color);\n",
              "    }\n",
              "    60% {\n",
              "      border-color: transparent;\n",
              "      border-right-color: var(--fill-color);\n",
              "    }\n",
              "    80% {\n",
              "      border-color: transparent;\n",
              "      border-right-color: var(--fill-color);\n",
              "      border-bottom-color: var(--fill-color);\n",
              "    }\n",
              "    90% {\n",
              "      border-color: transparent;\n",
              "      border-bottom-color: var(--fill-color);\n",
              "    }\n",
              "  }\n",
              "</style>\n",
              "\n",
              "  <script>\n",
              "    async function quickchart(key) {\n",
              "      const quickchartButtonEl =\n",
              "        document.querySelector('#' + key + ' button');\n",
              "      quickchartButtonEl.disabled = true;  // To prevent multiple clicks.\n",
              "      quickchartButtonEl.classList.add('colab-df-spinner');\n",
              "      try {\n",
              "        const charts = await google.colab.kernel.invokeFunction(\n",
              "            'suggestCharts', [key], {});\n",
              "      } catch (error) {\n",
              "        console.error('Error during call to suggestCharts:', error);\n",
              "      }\n",
              "      quickchartButtonEl.classList.remove('colab-df-spinner');\n",
              "      quickchartButtonEl.classList.add('colab-df-quickchart-complete');\n",
              "    }\n",
              "    (() => {\n",
              "      let quickchartButtonEl =\n",
              "        document.querySelector('#df-80eb7f9e-06e1-4445-b223-60616c555739 button');\n",
              "      quickchartButtonEl.style.display =\n",
              "        google.colab.kernel.accessAllowed ? 'block' : 'none';\n",
              "    })();\n",
              "  </script>\n",
              "</div>\n",
              "\n",
              "    </div>\n",
              "  </div>\n"
            ],
            "application/vnd.google.colaboratory.intrinsic+json": {
              "type": "dataframe",
              "variable_name": "irisDataset",
              "summary": "{\n  \"name\": \"irisDataset\",\n  \"rows\": 152,\n  \"fields\": [\n    {\n      \"column\": \"sepal length (cm)\",\n      \"properties\": {\n        \"dtype\": \"number\",\n        \"std\": 0.8249061228631539,\n        \"min\": 4.3,\n        \"max\": 7.9,\n        \"num_unique_values\": 35,\n        \"samples\": [\n          6.2,\n          4.5,\n          5.6\n        ],\n        \"semantic_type\": \"\",\n        \"description\": \"\"\n      }\n    },\n    {\n      \"column\": \"sepal width (cm)\",\n      \"properties\": {\n        \"dtype\": \"number\",\n        \"std\": 0.4391601350980343,\n        \"min\": 2.0,\n        \"max\": 4.4,\n        \"num_unique_values\": 23,\n        \"samples\": [\n          2.3,\n          4.0,\n          3.5\n        ],\n        \"semantic_type\": \"\",\n        \"description\": \"\"\n      }\n    },\n    {\n      \"column\": \"petal length (cm)\",\n      \"properties\": {\n        \"dtype\": \"number\",\n        \"std\": 1.7724685432588374,\n        \"min\": 1.0,\n        \"max\": 6.9,\n        \"num_unique_values\": 43,\n        \"samples\": [\n          6.7,\n          3.8,\n          3.7\n        ],\n        \"semantic_type\": \"\",\n        \"description\": \"\"\n      }\n    },\n    {\n      \"column\": \"petal width (cm)\",\n      \"properties\": {\n        \"dtype\": \"number\",\n        \"std\": 0.7657441813505473,\n        \"min\": 0.1,\n        \"max\": 2.5,\n        \"num_unique_values\": 22,\n        \"samples\": [\n          0.2,\n          1.2,\n          1.3\n        ],\n        \"semantic_type\": \"\",\n        \"description\": \"\"\n      }\n    },\n    {\n      \"column\": \"Species\",\n      \"properties\": {\n        \"dtype\": \"category\",\n        \"num_unique_values\": 3,\n        \"samples\": [\n          \"iris-versicolor\",\n          \"iris-virginica\",\n          \"iris-sentosa\"\n        ],\n        \"semantic_type\": \"\",\n        \"description\": \"\"\n      }\n    }\n  ]\n}"
            }
          },
          "metadata": {},
          "execution_count": 7
        }
      ]
    },
    {
      "cell_type": "code",
      "source": [
        "# Mengubah kelas (kolom \"species\") dari string ke unique-integer\n",
        "irisDataset[\"species\"] = pd.factorize(irisDataset.Species)[0]"
      ],
      "metadata": {
        "id": "4z_UZRbdDhGC"
      },
      "execution_count": 9,
      "outputs": []
    },
    {
      "cell_type": "code",
      "source": [
        "print(irisDataset)"
      ],
      "metadata": {
        "colab": {
          "base_uri": "https://localhost:8080/"
        },
        "id": "LoLWCRp5L_vF",
        "outputId": "66b3221c-6f51-4688-d940-ed6e77b54573"
      },
      "execution_count": 10,
      "outputs": [
        {
          "output_type": "stream",
          "name": "stdout",
          "text": [
            "     sepal length (cm)  sepal width (cm)  petal length (cm)  petal width (cm)  \\\n",
            "0                  5.1               3.5                1.4               0.2   \n",
            "1                  4.9               3.0                1.4               0.2   \n",
            "2                  4.7               3.2                1.3               0.2   \n",
            "3                  4.6               3.1                1.5               0.2   \n",
            "4                  5.0               3.6                1.4               0.2   \n",
            "..                 ...               ...                ...               ...   \n",
            "147                6.7               3.0                5.2               2.3   \n",
            "148                6.3               2.5                5.0               1.9   \n",
            "149                6.5               3.0                5.2               2.0   \n",
            "150                6.2               3.4                5.4               2.3   \n",
            "151                5.9               3.0                5.1               1.8   \n",
            "\n",
            "             Species  species  \n",
            "0    iris-versicolor        0  \n",
            "1    iris-versicolor        0  \n",
            "2    iris-versicolor        0  \n",
            "3    iris-versicolor        0  \n",
            "4    iris-versicolor        0  \n",
            "..               ...      ...  \n",
            "147     iris-sentosa        2  \n",
            "148     iris-sentosa        2  \n",
            "149     iris-sentosa        2  \n",
            "150     iris-sentosa        2  \n",
            "151     iris-sentosa        2  \n",
            "\n",
            "[152 rows x 6 columns]\n"
          ]
        }
      ]
    },
    {
      "cell_type": "code",
      "source": [
        "# Membagi Dataset 100 baris data\n",
        "dataTraining = np.concatenate((irisDataset.iloc[0:50, :], irisDataset.iloc[50:100, :]), axis=0)\n",
        "dataTesting = np.concatenate((irisDataset.iloc[50:60, :], irisDataset.iloc[100:110, :]),\n",
        "                            axis=0)"
      ],
      "metadata": {
        "id": "Qb40xp_iM_8n"
      },
      "execution_count": 16,
      "outputs": []
    },
    {
      "cell_type": "code",
      "source": [
        "print(dataTraining)\n",
        "len(dataTraining)"
      ],
      "metadata": {
        "id": "nwvafBI1NMdy",
        "colab": {
          "base_uri": "https://localhost:8080/"
        },
        "outputId": "0fc8ed49-fafc-4d12-8b8c-9db7cb37c4ab"
      },
      "execution_count": 15,
      "outputs": [
        {
          "output_type": "stream",
          "name": "stdout",
          "text": [
            "[[5.1 3.5 1.4 0.2 'iris-versicolor' 0]\n",
            " [4.9 3.0 1.4 0.2 'iris-versicolor' 0]\n",
            " [4.7 3.2 1.3 0.2 'iris-versicolor' 0]\n",
            " [4.6 3.1 1.5 0.2 'iris-versicolor' 0]\n",
            " [5.0 3.6 1.4 0.2 'iris-versicolor' 0]\n",
            " [5.4 3.9 1.7 0.4 'iris-versicolor' 0]\n",
            " [4.6 3.4 1.4 0.3 'iris-versicolor' 0]\n",
            " [5.0 3.4 1.5 0.2 'iris-versicolor' 0]\n",
            " [4.4 2.9 1.4 0.2 'iris-versicolor' 0]\n",
            " [4.9 3.1 1.5 0.1 'iris-versicolor' 0]\n",
            " [5.4 3.7 1.5 0.2 'iris-versicolor' 0]\n",
            " [4.8 3.4 1.6 0.2 'iris-versicolor' 0]\n",
            " [4.8 3.0 1.4 0.1 'iris-versicolor' 0]\n",
            " [4.3 3.0 1.1 0.1 'iris-versicolor' 0]\n",
            " [5.8 4.0 1.2 0.2 'iris-versicolor' 0]\n",
            " [5.7 4.4 1.5 0.4 'iris-versicolor' 0]\n",
            " [5.4 3.9 1.3 0.4 'iris-versicolor' 0]\n",
            " [5.1 3.5 1.4 0.3 'iris-versicolor' 0]\n",
            " [5.7 3.8 1.7 0.3 'iris-versicolor' 0]\n",
            " [5.1 3.8 1.5 0.3 'iris-versicolor' 0]\n",
            " [5.4 3.4 1.7 0.2 'iris-versicolor' 0]\n",
            " [5.1 3.7 1.5 0.4 'iris-versicolor' 0]\n",
            " [4.6 3.6 1.0 0.2 'iris-versicolor' 0]\n",
            " [5.1 3.3 1.7 0.5 'iris-versicolor' 0]\n",
            " [4.8 3.4 1.9 0.2 'iris-versicolor' 0]\n",
            " [5.0 3.0 1.6 0.2 'iris-versicolor' 0]\n",
            " [5.0 3.4 1.6 0.4 'iris-versicolor' 0]\n",
            " [5.2 3.5 1.5 0.2 'iris-versicolor' 0]\n",
            " [5.2 3.4 1.4 0.2 'iris-versicolor' 0]\n",
            " [4.7 3.2 1.6 0.2 'iris-versicolor' 0]\n",
            " [4.8 3.1 1.6 0.2 'iris-versicolor' 0]\n",
            " [5.4 3.4 1.5 0.4 'iris-versicolor' 0]\n",
            " [5.2 4.1 1.5 0.1 'iris-versicolor' 0]\n",
            " [5.5 4.2 1.4 0.2 'iris-versicolor' 0]\n",
            " [4.9 3.1 1.5 0.2 'iris-versicolor' 0]\n",
            " [5.0 3.2 1.2 0.2 'iris-versicolor' 0]\n",
            " [5.5 3.5 1.3 0.2 'iris-versicolor' 0]\n",
            " [4.9 3.6 1.4 0.1 'iris-versicolor' 0]\n",
            " [4.4 3.0 1.3 0.2 'iris-versicolor' 0]\n",
            " [5.1 3.4 1.5 0.2 'iris-versicolor' 0]\n",
            " [5.0 3.5 1.3 0.3 'iris-versicolor' 0]\n",
            " [4.5 2.3 1.3 0.3 'iris-versicolor' 0]\n",
            " [4.4 3.2 1.3 0.2 'iris-versicolor' 0]\n",
            " [5.0 3.5 1.6 0.6 'iris-versicolor' 0]\n",
            " [5.1 3.8 1.9 0.4 'iris-versicolor' 0]\n",
            " [4.8 3.0 1.4 0.3 'iris-versicolor' 0]\n",
            " [5.1 3.8 1.6 0.2 'iris-versicolor' 0]\n",
            " [4.6 3.2 1.4 0.2 'iris-versicolor' 0]\n",
            " [5.3 3.7 1.5 0.2 'iris-versicolor' 0]\n",
            " [5.3 3.7 1.5 0.2 'iris-versicolor' 0]\n",
            " [5.3 3.7 1.5 0.2 'iris-versicolor' 0]\n",
            " [5.0 3.3 1.4 0.2 'iris-versicolor' 0]\n",
            " [7.0 3.2 4.7 1.4 'iris-virginica' 1]\n",
            " [6.4 3.2 4.5 1.5 'iris-virginica' 1]\n",
            " [6.9 3.1 4.9 1.5 'iris-virginica' 1]\n",
            " [5.5 2.3 4.0 1.3 'iris-virginica' 1]\n",
            " [6.5 2.8 4.6 1.5 'iris-virginica' 1]\n",
            " [5.7 2.8 4.5 1.3 'iris-virginica' 1]\n",
            " [6.3 3.3 4.7 1.6 'iris-virginica' 1]\n",
            " [4.9 2.4 3.3 1.0 'iris-virginica' 1]\n",
            " [6.6 2.9 4.6 1.3 'iris-virginica' 1]\n",
            " [5.2 2.7 3.9 1.4 'iris-virginica' 1]\n",
            " [5.0 2.0 3.5 1.0 'iris-virginica' 1]\n",
            " [5.9 3.0 4.2 1.5 'iris-virginica' 1]\n",
            " [6.0 2.2 4.0 1.0 'iris-virginica' 1]\n",
            " [6.1 2.9 4.7 1.4 'iris-virginica' 1]\n",
            " [5.6 2.9 3.6 1.3 'iris-virginica' 1]\n",
            " [6.7 3.1 4.4 1.4 'iris-virginica' 1]\n",
            " [5.6 3.0 4.5 1.5 'iris-virginica' 1]\n",
            " [5.8 2.7 4.1 1.0 'iris-virginica' 1]\n",
            " [6.2 2.2 4.5 1.5 'iris-virginica' 1]\n",
            " [5.6 2.5 3.9 1.1 'iris-virginica' 1]\n",
            " [5.9 3.2 4.8 1.8 'iris-virginica' 1]\n",
            " [6.1 2.8 4.0 1.3 'iris-virginica' 1]\n",
            " [6.3 2.5 4.9 1.5 'iris-virginica' 1]\n",
            " [6.1 2.8 4.7 1.2 'iris-virginica' 1]\n",
            " [6.4 2.9 4.3 1.3 'iris-virginica' 1]\n",
            " [6.6 3.0 4.4 1.4 'iris-virginica' 1]\n",
            " [6.8 2.8 4.8 1.4 'iris-virginica' 1]\n",
            " [6.7 3.0 5.0 1.7 'iris-virginica' 1]\n",
            " [6.0 2.9 4.5 1.5 'iris-virginica' 1]\n",
            " [5.7 2.6 3.5 1.0 'iris-virginica' 1]\n",
            " [5.5 2.4 3.8 1.1 'iris-virginica' 1]\n",
            " [5.5 2.4 3.7 1.0 'iris-virginica' 1]\n",
            " [5.8 2.7 3.9 1.2 'iris-virginica' 1]\n",
            " [6.0 2.7 5.1 1.6 'iris-virginica' 1]\n",
            " [5.4 3.0 4.5 1.5 'iris-virginica' 1]\n",
            " [6.0 3.4 4.5 1.6 'iris-virginica' 1]\n",
            " [6.7 3.1 4.7 1.5 'iris-virginica' 1]\n",
            " [6.3 2.3 4.4 1.3 'iris-virginica' 1]\n",
            " [5.6 3.0 4.1 1.3 'iris-virginica' 1]\n",
            " [5.5 2.5 4.0 1.3 'iris-virginica' 1]\n",
            " [5.5 2.6 4.4 1.2 'iris-virginica' 1]\n",
            " [6.1 3.0 4.6 1.4 'iris-virginica' 1]\n",
            " [5.8 2.6 4.0 1.2 'iris-virginica' 1]\n",
            " [5.0 2.3 3.3 1.0 'iris-virginica' 1]\n",
            " [5.6 2.7 4.2 1.3 'iris-virginica' 1]\n",
            " [5.7 3.0 4.2 1.2 'iris-virginica' 1]\n",
            " [5.7 2.9 4.2 1.3 'iris-virginica' 1]\n",
            " [6.2 2.9 4.3 1.3 'iris-virginica' 1]]\n"
          ]
        },
        {
          "output_type": "execute_result",
          "data": {
            "text/plain": [
              "100"
            ]
          },
          "metadata": {},
          "execution_count": 15
        }
      ]
    },
    {
      "cell_type": "code",
      "source": [
        "print(dataTesting)\n",
        "len(dataTesting)"
      ],
      "metadata": {
        "colab": {
          "base_uri": "https://localhost:8080/"
        },
        "id": "VDoaGmWBCFWr",
        "outputId": "54075bc0-05ec-4a4e-a60d-e6d0cd9fed19"
      },
      "execution_count": 17,
      "outputs": [
        {
          "output_type": "stream",
          "name": "stdout",
          "text": [
            "[[5.3 3.7 1.5 0.2 'iris-versicolor' 0]\n",
            " [5.0 3.3 1.4 0.2 'iris-versicolor' 0]\n",
            " [7.0 3.2 4.7 1.4 'iris-virginica' 1]\n",
            " [6.4 3.2 4.5 1.5 'iris-virginica' 1]\n",
            " [6.9 3.1 4.9 1.5 'iris-virginica' 1]\n",
            " [5.5 2.3 4.0 1.3 'iris-virginica' 1]\n",
            " [6.5 2.8 4.6 1.5 'iris-virginica' 1]\n",
            " [5.7 2.8 4.5 1.3 'iris-virginica' 1]\n",
            " [6.3 3.3 4.7 1.6 'iris-virginica' 1]\n",
            " [4.9 2.4 3.3 1.0 'iris-virginica' 1]\n",
            " [5.1 2.5 3.0 1.1 'iris-virginica' 1]\n",
            " [5.7 2.8 4.1 1.3 'iris-virginica' 1]\n",
            " [6.3 3.3 6.0 2.5 'iris-sentosa' 2]\n",
            " [5.8 2.7 5.1 1.9 'iris-sentosa' 2]\n",
            " [7.1 3.0 5.9 2.1 'iris-sentosa' 2]\n",
            " [6.3 2.9 5.6 1.8 'iris-sentosa' 2]\n",
            " [6.5 3.0 5.8 2.2 'iris-sentosa' 2]\n",
            " [7.6 3.0 6.6 2.1 'iris-sentosa' 2]\n",
            " [4.9 2.5 4.5 1.7 'iris-sentosa' 2]\n",
            " [7.3 2.9 6.3 1.8 'iris-sentosa' 2]]\n"
          ]
        },
        {
          "output_type": "execute_result",
          "data": {
            "text/plain": [
              "20"
            ]
          },
          "metadata": {},
          "execution_count": 17
        }
      ]
    },
    {
      "cell_type": "code",
      "source": [
        "# Memecah Dataset ke Input dan Label\n",
        "inputTraining = dataTraining[:, 0:4]\n",
        "inputTesting = dataTesting[:, 0:4]\n",
        "labelTraining = dataTraining[:, 4]\n",
        "labelTesting = dataTesting[:, 4]"
      ],
      "metadata": {
        "id": "WSaJqH01GCVU"
      },
      "execution_count": 20,
      "outputs": []
    },
    {
      "cell_type": "code",
      "source": [
        "# Mendefinisikan Decision Tree Classifier\n",
        "model = tree.DecisionTreeClassifier()"
      ],
      "metadata": {
        "id": "WdfvFrlaCi_X"
      },
      "execution_count": 18,
      "outputs": []
    },
    {
      "cell_type": "code",
      "source": [
        "# Mentraining Model\n",
        "model = model.fit(inputTraining, labelTraining)"
      ],
      "metadata": {
        "id": "aMr8J4KLCvlZ"
      },
      "execution_count": 21,
      "outputs": []
    },
    {
      "cell_type": "code",
      "source": [
        "# Memprediksi Input Data Testing\n",
        "hasilPrediksi = model.predict(inputTesting)\n",
        "print(\"Label Sebenarnya : \", labelTesting)\n",
        "print(\"Hasil Prediksi : \", hasilPrediksi)"
      ],
      "metadata": {
        "colab": {
          "base_uri": "https://localhost:8080/"
        },
        "id": "mAl9fYyWDCA0",
        "outputId": "e5815cec-6c29-4194-ce08-b7e948f08ea6"
      },
      "execution_count": 22,
      "outputs": [
        {
          "output_type": "stream",
          "name": "stdout",
          "text": [
            "Label Sebenarnya :  ['iris-versicolor' 'iris-versicolor' 'iris-virginica' 'iris-virginica'\n",
            " 'iris-virginica' 'iris-virginica' 'iris-virginica' 'iris-virginica'\n",
            " 'iris-virginica' 'iris-virginica' 'iris-virginica' 'iris-virginica'\n",
            " 'iris-sentosa' 'iris-sentosa' 'iris-sentosa' 'iris-sentosa'\n",
            " 'iris-sentosa' 'iris-sentosa' 'iris-sentosa' 'iris-sentosa']\n",
            "Hasil Prediksi :  ['iris-versicolor' 'iris-versicolor' 'iris-virginica' 'iris-virginica'\n",
            " 'iris-virginica' 'iris-virginica' 'iris-virginica' 'iris-virginica'\n",
            " 'iris-virginica' 'iris-virginica' 'iris-virginica' 'iris-virginica'\n",
            " 'iris-virginica' 'iris-virginica' 'iris-virginica' 'iris-virginica'\n",
            " 'iris-virginica' 'iris-virginica' 'iris-virginica' 'iris-virginica']\n"
          ]
        }
      ]
    },
    {
      "cell_type": "code",
      "source": [
        "# Akurasi\n",
        "prediksiBenar = (hasilPrediksi == labelTesting).sum()\n",
        "prediksiSalah = (hasilPrediksi != labelTesting).sum()\n",
        "print(\"Prediksi Benar :\", prediksiBenar, \"data\")\n",
        "print(\"Prediksi Salah :\", prediksiSalah, \"data\")\n",
        "print(\"Akurasi : \", prediksiBenar/(prediksiBenar + prediksiSalah) * 100, \"%\")"
      ],
      "metadata": {
        "colab": {
          "base_uri": "https://localhost:8080/"
        },
        "id": "6FTAXp-pG_ZU",
        "outputId": "3ff2d441-aa14-45e7-9bb4-0e54ade813e1"
      },
      "execution_count": 24,
      "outputs": [
        {
          "output_type": "stream",
          "name": "stdout",
          "text": [
            "Prediksi Benar : 12 data\n",
            "Prediksi Salah : 8 data\n",
            "Akurasi :  60.0 %\n"
          ]
        }
      ]
    }
  ]
}